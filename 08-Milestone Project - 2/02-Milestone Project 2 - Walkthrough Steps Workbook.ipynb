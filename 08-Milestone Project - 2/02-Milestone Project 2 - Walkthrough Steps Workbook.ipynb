{
 "cells": [
  {
   "cell_type": "markdown",
   "metadata": {},
   "source": [
    "___\n",
    "\n",
    "<a href='https://www.udemy.com/user/joseportilla/'><img src='../Pierian_Data_Logo.png'/></a>\n",
    "___\n",
    "<center><em>Content Copyright by Pierian Data</em></center>"
   ]
  },
  {
   "cell_type": "markdown",
   "metadata": {
    "collapsed": true
   },
   "source": [
    "# Milestone Project 2 - Walkthrough Steps Workbook\n",
    "Below is a set of steps for you to follow to try to create the Blackjack Milestone Project game!"
   ]
  },
  {
   "cell_type": "markdown",
   "metadata": {},
   "source": [
    "## Game Play\n",
    "To play a hand of Blackjack the following steps must be followed:\n",
    "1. Create a deck of 52 cards\n",
    "2. Shuffle the deck\n",
    "3. Ask the Player for their bet\n",
    "4. Make sure that the Player's bet does not exceed their available chips\n",
    "5. Deal two cards to the Dealer and two cards to the Player\n",
    "6. Show only one of the Dealer's cards, the other remains hidden\n",
    "7. Show both of the Player's cards\n",
    "8. Ask the Player if they wish to Hit, and take another card\n",
    "9. If the Player's hand doesn't Bust (go over 21), ask if they'd like to Hit again.\n",
    "10. If a Player Stands, play the Dealer's hand. The dealer will always Hit until the Dealer's value meets or exceeds 17\n",
    "11. Determine the winner and adjust the Player's chips accordingly\n",
    "12. Ask the Player if they'd like to play again"
   ]
  },
  {
   "cell_type": "markdown",
   "metadata": {},
   "source": [
    "## Playing Cards\n",
    "A standard deck of playing cards has four suits (Hearts, Diamonds, Spades and Clubs) and thirteen ranks (2 through 10, then the face cards Jack, Queen, King and Ace) for a total of 52 cards per deck. Jacks, Queens and Kings all have a rank of 10. Aces have a rank of either 11 or 1 as needed to reach 21 without busting. As a starting point in your program, you may want to assign variables to store a list of suits, ranks, and then use a dictionary to map ranks to values."
   ]
  },
  {
   "cell_type": "markdown",
   "metadata": {},
   "source": [
    "## The Game\n",
    "### Imports and Global Variables\n",
    "** Step 1: Import the random module. This will be used to shuffle the deck prior to dealing. Then, declare variables to store suits, ranks and values. You can develop your own system, or copy ours below. Finally, declare a Boolean value to be used to control <code>while</code> loops. This is a common practice used to control the flow of the game.**\n",
    "\n",
    "    suits = ('Hearts', 'Diamonds', 'Spades', 'Clubs')\n",
    "    ranks = ('Two', 'Three', 'Four', 'Five', 'Six', 'Seven', 'Eight', 'Nine', 'Ten', 'Jack', 'Queen', 'King', 'Ace')\n",
    "    values = {'Two':2, 'Three':3, 'Four':4, 'Five':5, 'Six':6, 'Seven':7, 'Eight':8, 'Nine':9, 'Ten':10, 'Jack':10,\n",
    "             'Queen':10, 'King':10, 'Ace':11}"
   ]
  },
  {
   "cell_type": "code",
   "execution_count": 52,
   "metadata": {
    "collapsed": true
   },
   "outputs": [],
   "source": [
    "import random\n",
    "\n",
    "suits = ('Hearts', 'Diamonds', 'Spades', 'Clubs')\n",
    "ranks = ('Two', 'Three', 'Four', 'Five', 'Six', 'Seven', 'Eight', 'Nine', 'Ten', 'Jack', 'Queen', 'King', 'Ace')\n",
    "values = {'Two':2, 'Three':3, 'Four':4, 'Five':5, 'Six':6, 'Seven':7, 'Eight':8, 'Nine':9, 'Ten':10, 'Jack':10,\n",
    "             'Queen':10, 'King':10, 'Ace':11}\n",
    "playing = True"
   ]
  },
  {
   "cell_type": "markdown",
   "metadata": {},
   "source": [
    "### Class Definitions\n",
    "Consider making a Card class where each Card object has a suit and a rank, then a Deck class to hold all 52 Card objects, and can be shuffled, and finally a Hand class that holds those Cards that have been dealt to each player from the Deck."
   ]
  },
  {
   "cell_type": "markdown",
   "metadata": {},
   "source": [
    "**Step 2: Create a Card Class**<br>\n",
    "A Card object really only needs two attributes: suit and rank. You might add an attribute for \"value\" - we chose to handle value later when developing our Hand class.<br>In addition to the Card's \\_\\_init\\_\\_ method, consider adding a \\_\\_str\\_\\_ method that, when asked to print a Card, returns a string in the form \"Two of Hearts\""
   ]
  },
  {
   "cell_type": "code",
   "execution_count": 53,
   "metadata": {
    "collapsed": true
   },
   "outputs": [],
   "source": [
    "class Card:\n",
    "    \n",
    "    def __init__(self,suit,rank):\n",
    "        self.suit = suit\n",
    "        self.rank = rank\n",
    "        self.value = values[rank]\n",
    "        \n",
    "    def __str__(self):\n",
    "        return self.rank + ' of ' + self.suit"
   ]
  },
  {
   "cell_type": "markdown",
   "metadata": {},
   "source": [
    "**Step 3: Create a Deck Class**<br>\n",
    "Here we might store 52 card objects in a list that can later be shuffled. First, though, we need to *instantiate* all 52 unique card objects and add them to our list. So long as the Card class definition appears in our code, we can build Card objects inside our Deck \\_\\_init\\_\\_ method. Consider iterating over sequences of suits and ranks to build out each card. This might appear inside a Deck class \\_\\_init\\_\\_ method:\n",
    "\n",
    "    for suit in suits:\n",
    "        for rank in ranks:\n",
    "\n",
    "In addition to an \\_\\_init\\_\\_ method we'll want to add methods to shuffle our deck, and to deal out cards during gameplay.<br><br>\n",
    "OPTIONAL: We may never need to print the contents of the deck during gameplay, but having the ability to see the cards inside it may help troubleshoot any problems that occur during development. With this in mind, consider adding a \\_\\_str\\_\\_ method to the class definition."
   ]
  },
  {
   "cell_type": "code",
   "execution_count": 54,
   "metadata": {
    "collapsed": true
   },
   "outputs": [],
   "source": [
    "class Deck:\n",
    "\n",
    "    def __init__(self):\n",
    "        self.deck = []  # start with an empty list\n",
    "        for suit in suits:\n",
    "            for rank in ranks:\n",
    "                self.deck.append(Card(suit, rank))\n",
    "    \n",
    "    def __str__(self):\n",
    "        str_deck = []\n",
    "        for card in range(len(self.deck)):\n",
    "            str_deck.append(str(self.deck[card]))\n",
    "        return str(str_deck)\n",
    "\n",
    "    def shuffle(self):\n",
    "        print(\"Shuffling the deck...\")\n",
    "        random.shuffle(self.deck)\n",
    "        \n",
    "    def deal(self):\n",
    "        print(\"Dealing cards...\")\n",
    "        return self.deck.pop()"
   ]
  },
  {
   "cell_type": "markdown",
   "metadata": {},
   "source": [
    "TESTING: Just to see that everything works so far, let's see what our Deck looks like!"
   ]
  },
  {
   "cell_type": "code",
   "execution_count": 55,
   "metadata": {
    "collapsed": true
   },
   "outputs": [
    {
     "name": "stdout",
     "output_type": "stream",
     "text": [
      "['Two of Hearts', 'Three of Hearts', 'Four of Hearts', 'Five of Hearts', 'Six of Hearts', 'Seven of Hearts', 'Eight of Hearts', 'Nine of Hearts', 'Ten of Hearts', 'Jack of Hearts', 'Queen of Hearts', 'King of Hearts', 'Ace of Hearts', 'Two of Diamonds', 'Three of Diamonds', 'Four of Diamonds', 'Five of Diamonds', 'Six of Diamonds', 'Seven of Diamonds', 'Eight of Diamonds', 'Nine of Diamonds', 'Ten of Diamonds', 'Jack of Diamonds', 'Queen of Diamonds', 'King of Diamonds', 'Ace of Diamonds', 'Two of Spades', 'Three of Spades', 'Four of Spades', 'Five of Spades', 'Six of Spades', 'Seven of Spades', 'Eight of Spades', 'Nine of Spades', 'Ten of Spades', 'Jack of Spades', 'Queen of Spades', 'King of Spades', 'Ace of Spades', 'Two of Clubs', 'Three of Clubs', 'Four of Clubs', 'Five of Clubs', 'Six of Clubs', 'Seven of Clubs', 'Eight of Clubs', 'Nine of Clubs', 'Ten of Clubs', 'Jack of Clubs', 'Queen of Clubs', 'King of Clubs', 'Ace of Clubs']\n"
     ]
    }
   ],
   "source": [
    "test_deck = Deck()\n",
    "print(test_deck)"
   ]
  },
  {
   "cell_type": "markdown",
   "metadata": {},
   "source": [
    "Great! Now let's move on to our Hand class."
   ]
  },
  {
   "cell_type": "markdown",
   "metadata": {},
   "source": [
    "**Step 4: Create a Hand Class**<br>\n",
    "In addition to holding Card objects dealt from the Deck, the Hand class may be used to calculate the value of those cards using the values dictionary defined above. It may also need to adjust for the value of Aces when appropriate."
   ]
  },
  {
   "cell_type": "code",
   "execution_count": 56,
   "metadata": {
    "collapsed": true
   },
   "outputs": [],
   "source": [
    "class Hand:\n",
    "    def __init__(self):\n",
    "        self.cards = []\n",
    "        self.str_cards = ''  # cards in hand\n",
    "        self.value = 0   # total value of cards in hand\n",
    "        self.aces = True if 'Ace' in self.cards else False # if there is an Ace in hand\n",
    "    \n",
    "    def __str__(self):\n",
    "        str_cards = []\n",
    "        for card in range(len(self.cards)):\n",
    "            str_cards.append(str(self.cards[card]))\n",
    "        return str(str_cards)\n",
    "\n",
    "    \n",
    "    def add_card(self,card):\n",
    "        '''Assumes Card type. \n",
    "        Returns None.\n",
    "        Appends card to hand.'''\n",
    "        self.cards.append(card)\n",
    "        self.value += values.get(str(card).split()[0])\n",
    "\n",
    "    \n",
    "    def adjust_for_ace(self):\n",
    "        '''Returns int self.value\n",
    "        Checks if '''\n",
    "        self.aces = True if 'Ace' in self.cards else False\n",
    "        if self.aces and self.value < 21:\n",
    "            pass\n",
    "        elif self.aces and self.value > 21:\n",
    "            self.value -= 10\n",
    "        return self.value\n",
    "    \n",
    "    \n"
   ]
  },
  {
   "cell_type": "code",
   "execution_count": 60,
   "metadata": {},
   "outputs": [
    {
     "name": "stdout",
     "output_type": "stream",
     "text": [
      "Shuffling the deck...\n",
      "['King of Clubs', 'Three of Spades', 'Four of Hearts', 'Five of Hearts', 'Two of Spades', 'Three of Hearts', 'Nine of Clubs', 'Seven of Diamonds', 'Six of Spades', 'Two of Clubs', 'Eight of Spades', 'Nine of Diamonds', 'Ten of Diamonds', 'Nine of Hearts', 'Seven of Clubs', 'Ten of Spades', 'Queen of Spades', 'Queen of Hearts', 'Nine of Spades', 'Four of Clubs', 'Seven of Spades', 'King of Hearts', 'Two of Diamonds', 'Three of Clubs', 'Jack of Diamonds', 'Queen of Clubs', 'King of Diamonds', 'Five of Diamonds', 'Eight of Diamonds', 'Eight of Clubs', 'King of Spades', 'Jack of Spades', 'Queen of Diamonds', 'Ace of Spades', 'Four of Diamonds', 'Eight of Hearts', 'Six of Hearts', 'Six of Clubs', 'Jack of Hearts', 'Five of Spades', 'Jack of Clubs', 'Six of Diamonds', 'Three of Diamonds', 'Seven of Hearts', 'Two of Hearts', 'Ten of Clubs', 'Five of Clubs', 'Ace of Diamonds', 'Ten of Hearts', 'Four of Spades', 'Ace of Clubs', 'Ace of Hearts']\n",
      "Dealing cards...\n",
      "['King of Clubs', 'Three of Spades', 'Four of Hearts', 'Five of Hearts', 'Two of Spades', 'Three of Hearts', 'Nine of Clubs', 'Seven of Diamonds', 'Six of Spades', 'Two of Clubs', 'Eight of Spades', 'Nine of Diamonds', 'Ten of Diamonds', 'Nine of Hearts', 'Seven of Clubs', 'Ten of Spades', 'Queen of Spades', 'Queen of Hearts', 'Nine of Spades', 'Four of Clubs', 'Seven of Spades', 'King of Hearts', 'Two of Diamonds', 'Three of Clubs', 'Jack of Diamonds', 'Queen of Clubs', 'King of Diamonds', 'Five of Diamonds', 'Eight of Diamonds', 'Eight of Clubs', 'King of Spades', 'Jack of Spades', 'Queen of Diamonds', 'Ace of Spades', 'Four of Diamonds', 'Eight of Hearts', 'Six of Hearts', 'Six of Clubs', 'Jack of Hearts', 'Five of Spades', 'Jack of Clubs', 'Six of Diamonds', 'Three of Diamonds', 'Seven of Hearts', 'Two of Hearts', 'Ten of Clubs', 'Five of Clubs', 'Ace of Diamonds', 'Ten of Hearts', 'Four of Spades', 'Ace of Clubs']\n",
      "Dealing cards...\n",
      "22\n",
      "['Ace of Hearts', 'Ace of Clubs']\n"
     ]
    }
   ],
   "source": [
    "deck = Deck()\n",
    "deck.shuffle()\n",
    "hand = Hand()\n",
    "print(deck)\n",
    "hand.add_card(deck.deal())\n",
    "print(deck)\n",
    "hand.add_card(deck.deal())\n",
    "print(hand.value)\n",
    "print(hand)"
   ]
  },
  {
   "cell_type": "markdown",
   "metadata": {},
   "source": [
    "**Step 5: Create a Chips Class**<br>\n",
    "In addition to decks of cards and hands, we need to keep track of a Player's starting chips, bets, and ongoing winnings. This could be done using global variables, but in the spirit of object oriented programming, let's make a Chips class instead!"
   ]
  },
  {
   "cell_type": "code",
   "execution_count": 8,
   "metadata": {
    "collapsed": true
   },
   "outputs": [],
   "source": [
    "class Chips:\n",
    "    \n",
    "    def __init__(self):\n",
    "        while True:\n",
    "            try:\n",
    "                self.total = int(input(\"How much would you like to buy in casino chips? : \"))  # This can be set to a default value or supplied by a user input\n",
    "                if self.total < 0:\n",
    "                    raise ValueError\n",
    "                else: \n",
    "                    break\n",
    "            except ValueError:\n",
    "                print(\"Please enter a valid ammont in chips\")\n",
    "        self.bet = 0\n",
    "        \n",
    "    def win_bet(self):\n",
    "        self.total += self.bet * 2    \n",
    "    def lose_bet(self):\n",
    "        self.total -= self.bet * 2"
   ]
  },
  {
   "cell_type": "markdown",
   "metadata": {},
   "source": [
    "### Function Defintions\n",
    "A lot of steps are going to be repetitive. That's where functions come in! The following steps are guidelines - add or remove functions as needed in your own program."
   ]
  },
  {
   "cell_type": "markdown",
   "metadata": {},
   "source": [
    "**Step 6: Write a function for taking bets**<br>\n",
    "Since we're asking the user for an integer value, this would be a good place to use <code>try</code>/<code>except</code>. Remember to check that a Player's bet can be covered by their available chips."
   ]
  },
  {
   "cell_type": "code",
   "execution_count": 9,
   "metadata": {
    "collapsed": true
   },
   "outputs": [],
   "source": [
    "def take_bet(total_chips):\n",
    "    '''Assumes int total_chips.\n",
    "    Returns int bet\n",
    "    Asks user to input desired value to be betted within his current ammount of chips.'''\n",
    "    bet = 0\n",
    "    while bet <= total_chips and bet > 0:\n",
    "        try:\n",
    "            bet = int(input(\"Total chipsbe : {}\\nEntry betting ammount : \".format(total_chips)))\n",
    "        except ValueError:\n",
    "            print(\"Please enter a valid betting amount.\")\n",
    "            continue\n",
    "        finally:\n",
    "            if  bet <= total_chips and bet > 0:\n",
    "                raise ValueError\n",
    "    return bet"
   ]
  },
  {
   "cell_type": "markdown",
   "metadata": {},
   "source": [
    "**Step 7: Write a function for taking hits**<br>\n",
    "Either player can take hits until they bust. This function will be called during gameplay anytime a Player requests a hit, or a Dealer's hand is less than 17. It should take in Deck and Hand objects as arguments, and deal one card off the deck and add it to the Hand. You may want it to check for aces in the event that a player's hand exceeds 21."
   ]
  },
  {
   "cell_type": "code",
   "execution_count": 10,
   "metadata": {
    "collapsed": true
   },
   "outputs": [],
   "source": [
    "def hit(deck,hand):\n",
    "    '''Assumes and returs lists deck and hand.\n",
    "    Takes the last card of the deck and adds to the given hand.'''\n",
    "    hand.append(deck[-1])\n",
    "    deck.pop()\n",
    "    return deck,hand"
   ]
  },
  {
   "cell_type": "markdown",
   "metadata": {},
   "source": [
    "**Step 8: Write a function prompting the Player to Hit or Stand**<br>\n",
    "This function should accept the deck and the player's hand as arguments, and assign playing as a global variable.<br>\n",
    "If the Player Hits, employ the hit() function above. If the Player Stands, set the playing variable to False - this will control the behavior of a <code>while</code> loop later on in our code."
   ]
  },
  {
   "cell_type": "code",
   "execution_count": 11,
   "metadata": {
    "collapsed": true
   },
   "outputs": [],
   "source": [
    "def hit_or_stand(deck,hand):\n",
    "    global playing  # to control an upcoming while loop\n",
    "    hit_or_stand = ''\n",
    "    while playing:\n",
    "            hit_or_stand = input(\"Would you like to [H]it or [S]tand? [H/S] : \")\n",
    "            if hit_or_stand not in ('H', 'S'):\n",
    "                raise ValueError(\"Please enter a valid input : [H/S]\")\n",
    "            if hit_or_stand == 'H':\n",
    "                hit(deck, hand)\n",
    "                return playing\n",
    "            else:\n",
    "                playing = False\n",
    "                return playing\n",
    "    return playing\n",
    "                 \n"
   ]
  },
  {
   "cell_type": "markdown",
   "metadata": {},
   "source": [
    "**Step 9: Write functions to display cards**<br>\n",
    "When the game starts, and after each time Player takes a card, the dealer's first card is hidden and all of Player's cards are visible. At the end of the hand all cards are shown, and you may want to show each hand's total value. Write a function for each of these scenarios."
   ]
  },
  {
   "cell_type": "code",
   "execution_count": 12,
   "metadata": {
    "collapsed": true
   },
   "outputs": [],
   "source": [
    "def show_some(player,dealer):\n",
    "    print(\"Dealers' Hand :\", dealer[0])\n",
    "    print(\"Player's Hand :\", player)\n",
    "\n",
    "def show_all(player,dealer):\n",
    "    '''Assumes lists player and dealer.\n",
    "    Returns ints player points and dealer points.\n",
    "    Prints the cards and values of each hand.'''\n",
    "    player_points = 0\n",
    "    dealer_points = 0\n",
    "    for card in player:\n",
    "        player_points += values.get(card)\n",
    "    for card in dealer:\n",
    "        dealer_points += values.get(card)\n",
    "    print(f\"Player's Hand : {player} ({player_points})\") \n",
    "    print(f\"Dealers' Hand : {dealer} ({dealer_points})\")\n",
    "    return player_points, dealer_points"
   ]
  },
  {
   "cell_type": "markdown",
   "metadata": {},
   "source": [
    "**Step 10: Write functions to handle end of game scenarios**<br>\n",
    "Remember to pass player's hand, dealer's hand and chips as needed."
   ]
  },
  {
   "cell_type": "code",
   "execution_count": 13,
   "metadata": {
    "collapsed": true
   },
   "outputs": [],
   "source": [
    "def player_blackjack(player_points, dealer_points):\n",
    "    if player_points == 21:\n",
    "        print (\"Player blackjack!\")\n",
    "        return True\n",
    "    return False\n",
    "\n",
    "def player_busts(player_points, dealer_points):\n",
    "    if player_points > 21:\n",
    "        print (\"Player Busts!\")\n",
    "        return True\n",
    "    return False\n",
    "\n",
    "def player_wins(player_points, dealer_points):\n",
    "    if player_points <= 21 :\n",
    "        print (\"Dealer Wins!\")\n",
    "        return True\n",
    "    return False\n",
    "\n",
    "def dealer_busts(player_points, dealer_points):\n",
    "    if dealer_points > 21:\n",
    "        print (\"Dealer Busts!\")\n",
    "        return True\n",
    "    return False\n",
    "    \n",
    "def dealer_wins(player_points, dealer_points):\n",
    "    if dealer_points > 21:\n",
    "        print (\"Dealer Wins!\")\n",
    "        return True\n",
    "    return False\n",
    "\n",
    "def push(player_points, dealer_points):\n",
    "    if dealer_points == player_points and  dealer_points <= 21 and player_points <= 21:\n",
    "        print (\"Push!\")\n",
    "        return True\n",
    "    return False\n",
    "\n"
   ]
  },
  {
   "cell_type": "markdown",
   "metadata": {},
   "source": [
    "### And now on to the game!!"
   ]
  },
  {
   "cell_type": "markdown",
   "metadata": {},
   "source": [
    "'''COMPLETE SOLUTION AT ./blackjack.py'''\n"
   ]
  },
  {
   "cell_type": "code",
   "execution_count": 61,
   "metadata": {
    "collapsed": true
   },
   "outputs": [
    {
     "data": {
      "text/plain": [
       "'***SOLUTION AT ./blackjack.py***'"
      ]
     },
     "execution_count": 61,
     "metadata": {},
     "output_type": "execute_result"
    }
   ],
   "source": [
    "'''COMPLETE SOLUTION AT ./blackjack.py'''\n",
    "\n",
    "\n",
    "######################################################\n",
    "\n",
    "\n"
   ]
  },
  {
   "cell_type": "markdown",
   "metadata": {},
   "source": [
    "And that's it! Remember, these steps may differ significantly from your own solution. That's OK! Keep working on different sections of your program until you get the desired results. It takes a lot of time and patience! As always, feel free to post questions and comments to the QA Forums.\n",
    "# Good job!"
   ]
  }
 ],
 "metadata": {
  "kernelspec": {
   "display_name": "Python 3.10.5 64-bit (microsoft store)",
   "language": "python",
   "name": "python3"
  },
  "language_info": {
   "codemirror_mode": {
    "name": "ipython",
    "version": 3
   },
   "file_extension": ".py",
   "mimetype": "text/x-python",
   "name": "python",
   "nbconvert_exporter": "python",
   "pygments_lexer": "ipython3",
   "version": "3.10.5"
  },
  "vscode": {
   "interpreter": {
    "hash": "565bec348f0b6a120457f3591b8e8b4d50e02c1b6dce9b5b332bde268aacd379"
   }
  }
 },
 "nbformat": 4,
 "nbformat_minor": 1
}
