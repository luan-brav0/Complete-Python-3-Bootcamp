{
 "cells": [
  {
   "cell_type": "markdown",
   "metadata": {},
   "source": [
    "___\n",
    "\n",
    "<a href='https://www.udemy.com/user/joseportilla/'><img src='../Pierian_Data_Logo.png'/></a>\n",
    "___\n",
    "<center><em>Content Copyright by Pierian Data</em></center>"
   ]
  },
  {
   "cell_type": "markdown",
   "metadata": {},
   "source": [
    "# PDFs and Spreadsheets Puzzle Exercise\n",
    "\n",
    "Let's test your skills, the files needed for this puzzle exercise\n",
    "\n",
    "You will need to work with two files for this exercise and solve the following tasks:\n",
    "\n",
    "* Task One: Use Python to extract the Google Drive link from the .csv file. (Hint: Its along the diagonal from top left to bottom right).\n",
    "* Task Two: Download the PDF from the Google Drive link (we already downloaded it for you just in case you can't download from Google Drive) and find the phone number that is in the document. Note: There are different ways of formatting a phone number!"
   ]
  },
  {
   "cell_type": "markdown",
   "metadata": {},
   "source": [
    "## Task One: Grab the Google Drive Link from .csv File"
   ]
  },
  {
   "cell_type": "code",
   "execution_count": 7,
   "metadata": {
    "collapsed": true
   },
   "outputs": [
    {
     "name": "stdout",
     "output_type": "stream",
     "text": [
      "https://drive.google.com/open?id=1G6SEgg018UB4_4xsAJJ5TdzrhmXipr4Q\n"
     ]
    }
   ],
   "source": [
    "\n",
    "\n",
    "import csv\n",
    "import os\n",
    "\n",
    "os.chdir('c:/GitHub/Complete-Python-3-Bootcamp/15-PDFs-and-Spreadsheets/Exercise_Files/')\n",
    "os.getcwd()\n",
    "\n",
    "data = list(csv.reader((open('find_the_link.csv'))))\n",
    "extracted_link = ''\n",
    "\n",
    "for i in range(len(data)):\n",
    "    extracted_link += data[i][i]\n",
    "print(extracted_link)\n",
    "\n"
   ]
  },
  {
   "cell_type": "code",
   "execution_count": 4,
   "metadata": {},
   "outputs": [],
   "source": [
    "# THe correct result is shown below, if you can't download from Google Drive, \n",
    "# we added the PDF file to the Exercise_Files folder already\n",
    "# 'https://drive.google.com/open?id=1G6SEgg018UB4_4xsAJJ5TdzrhmXipr4Q'- "
   ]
  },
  {
   "cell_type": "markdown",
   "metadata": {},
   "source": [
    "## Task Two: Download the PDF from the Google Drive link and find the phone number that is in the document. "
   ]
  },
  {
   "cell_type": "code",
   "execution_count": 15,
   "metadata": {
    "collapsed": true
   },
   "outputs": [
    {
     "name": "stdout",
     "output_type": "stream",
     "text": [
      "Page: 13\n",
      "Phone Number : 505.503.4455\n"
     ]
    }
   ],
   "source": [
    "# You should get this phone number\n",
    "# 505 503 4455\n",
    "import os\n",
    "import re\n",
    "import PyPDF2\n",
    "\n",
    "os.chdir('c:/GitHub/Complete-Python-3-Bootcamp/15-PDFs-and-Spreadsheets/Exercise_Files/')\n",
    "os.getcwd()\n",
    "\n",
    "f = open('Find_the_Phone_Number.pdf', 'rb')\n",
    "reader = PyPDF2.PdfFileReader(f)\n",
    "reader.numPages\n",
    "text = []\n",
    "for p in range(reader.numPages):\n",
    "    page = reader.getPage(p).extractText()\n",
    "    rgx = re.search(r'\\d\\d\\d\\W\\d\\d\\d\\W\\d\\d\\d\\d|\\d\\d\\d-\\d\\d\\d-\\d\\d\\d\\d|\\d\\d\\d\\d\\d\\d\\d\\d\\d\\d|(\\d\\d\\d) \\d\\d\\d\\d\\d\\d\\d|(\\d\\d\\d) \\d\\d\\d-\\d\\d\\d\\d|(\\d\\d\\d)\\d\\d\\d-\\d\\d\\d\\d|(\\d\\d\\d)\\d\\d\\d\\d\\d\\d\\d|\\d\\d\\d\\W\\d\\d\\d\\W\\d\\d\\d\\d', page)\n",
    "\n",
    "    if bool(rgx):\n",
    "        print(f'Page: {p}\\nPhone Number : {rgx.group()}')"
   ]
  },
  {
   "cell_type": "code",
   "execution_count": null,
   "metadata": {},
   "outputs": [],
   "source": []
  }
 ],
 "metadata": {
  "anaconda-cloud": {},
  "kernelspec": {
   "display_name": "Python 3.9.12 ('base')",
   "language": "python",
   "name": "python3"
  },
  "language_info": {
   "codemirror_mode": {
    "name": "ipython",
    "version": 3
   },
   "file_extension": ".py",
   "mimetype": "text/x-python",
   "name": "python",
   "nbconvert_exporter": "python",
   "pygments_lexer": "ipython3",
   "version": "3.9.13"
  },
  "vscode": {
   "interpreter": {
    "hash": "ab006ef6ae1e5f3867591819e20521fa508a1cb348b91053e825db8444034981"
   }
  }
 },
 "nbformat": 4,
 "nbformat_minor": 2
}
